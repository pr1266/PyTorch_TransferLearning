{
 "cells": [
  {
   "cell_type": "code",
   "execution_count": 2,
   "id": "341061cf",
   "metadata": {},
   "outputs": [],
   "source": [
    "import torch\n",
    "import torchvision\n",
    "import torch.nn as nn\n",
    "from torchvision import datasets, models, transforms\n",
    "from torch.utils.data.sampler import SubsetRandomSampler\n",
    "import torch.optim as optim\n",
    "from torch.optim import lr_scheduler\n",
    "import numpy as np\n",
    "import matplotlib.pyplot as plt\n",
    "import time\n",
    "import os\n",
    "import copy"
   ]
  },
  {
   "cell_type": "code",
   "execution_count": 3,
   "id": "f48dbd95",
   "metadata": {},
   "outputs": [
    {
     "name": "stdout",
     "output_type": "stream",
     "text": [
      "using GPU\n"
     ]
    }
   ],
   "source": [
    "device = torch.device('cuda' if torch.cuda.is_available() else 'cpu')\n",
    "print('using GPU' if device else 'using CPU')"
   ]
  },
  {
   "cell_type": "code",
   "execution_count": null,
   "id": "bbde2f82",
   "metadata": {},
   "outputs": [],
   "source": [
    "## dataset\n",
    "transform = transforms.Compose([transforms.ToTensor(), transforms.Normalize((0.5), (0.5),)])\n",
    "train_set = datasets.FashionMNIST('/data/mnist', download=True, train=True, transform=transform)\n",
    "test_set = datasets.FashionMNIST('/data/mnist', download=True, train=False, transform=transform)\n",
    "\n",
    "# inja validation va train data ro joda mikonim:\n",
    "indices = list(range(len(train_set)))\n",
    "np.random.shuffle(indices)\n",
    "split = int(np.floor(0.2 * len(train_set)))\n",
    "train_sample = SubsetRandomSampler(indices[:split])\n",
    "val_sample = SubsetRandomSampler(indices[split:])\n",
    "# hala data loader:\n",
    "train_loader = torch.utils.data.DataLoader(train_set, sampler=train_sample, batch_size = 64)\n",
    "val_loader = torch.utils.data.DataLoader(train_set, sampler=val_sample, batch_size = 64)\n",
    "test_loader = torch.utils.data.DataLoader(test_set, batch_size=64, shuffle=True)"
   ]
  }
 ],
 "metadata": {
  "kernelspec": {
   "display_name": "Python 3 (ipykernel)",
   "language": "python",
   "name": "python3"
  },
  "language_info": {
   "codemirror_mode": {
    "name": "ipython",
    "version": 3
   },
   "file_extension": ".py",
   "mimetype": "text/x-python",
   "name": "python",
   "nbconvert_exporter": "python",
   "pygments_lexer": "ipython3",
   "version": "3.7.13"
  }
 },
 "nbformat": 4,
 "nbformat_minor": 5
}
