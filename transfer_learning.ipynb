{
 "cells": [
  {
   "cell_type": "code",
   "execution_count": 2,
   "id": "930587ba",
   "metadata": {},
   "outputs": [],
   "source": [
    "import torch\n",
    "import torchvision\n",
    "import torch.nn as nn\n",
    "from torchvision import datasets, models, transforms\n",
    "from torch.utils.data.sampler import SubsetRandomSampler\n",
    "import torch.optim as optim\n",
    "from torch.optim import lr_scheduler\n",
    "import numpy as np\n",
    "import matplotlib.pyplot as plt\n",
    "import time\n",
    "import os\n",
    "import copy"
   ]
  },
  {
   "cell_type": "code",
   "execution_count": 3,
   "id": "5a9857c0",
   "metadata": {},
   "outputs": [
    {
     "name": "stdout",
     "output_type": "stream",
     "text": [
      "using GPU\n"
     ]
    }
   ],
   "source": [
    "device = torch.device('cuda' if torch.cuda.is_available() else 'cpu')\n",
    "print('using GPU' if device else 'using CPU')"
   ]
  },
  {
   "cell_type": "code",
   "execution_count": null,
   "id": "c5f9457e",
   "metadata": {},
   "outputs": [],
   "source": [
    "## dataset\n",
    "transform = transforms.Compose([transforms.ToTensor(), transforms.Normalize((0.5), (0.5),)])\n",
    "train_set = datasets.FashionMNIST('/data/mnist', download=True, train=True, transform=transform)\n",
    "test_set = datasets.FashionMNIST('/data/mnist', download=True, train=False, transform=transform)\n",
    "\n",
    "# inja validation va train data ro joda mikonim:\n",
    "indices = list(range(len(train_set)))\n",
    "np.random.shuffle(indices)\n",
    "split = int(np.floor(0.2 * len(train_set)))\n",
    "train_sample = SubsetRandomSampler(indices[:split])\n",
    "val_sample = SubsetRandomSampler(indices[split:])\n",
    "# hala data loader:\n",
    "train_loader = torch.utils.data.DataLoader(train_set, sampler=train_sample, batch_size = 64)\n",
    "val_loader = torch.utils.data.DataLoader(train_set, sampler=val_sample, batch_size = 64)\n",
    "test_loader = torch.utils.data.DataLoader(test_set, batch_size=64, shuffle=True)"
   ]
  },
  {
   "cell_type": "code",
   "execution_count": null,
   "id": "93447be7",
   "metadata": {},
   "outputs": [],
   "source": [
    "train_dataset = iter(train_loader)\n",
    "images, labels = train_dataset.next()\n",
    "print(images.size(), len(labels))"
   ]
  },
  {
   "cell_type": "code",
   "execution_count": null,
   "id": "624956b1",
   "metadata": {},
   "outputs": [],
   "source": [
    "def build_fine_tune_model():\n",
    "    model = models.resnet18(pretrained=True)\n",
    "    num_ftrs = model.fc.in_features\n",
    "    model.fc = nn.Linear(num_ftrs, 2)\n",
    "    model = model.to(device)\n",
    "    return model\n",
    "\n",
    "def build_backbone_model():\n",
    "    model = torchvision.models.resnet18(pretrained=True)\n",
    "    #inja parameter haro freeze mikonim:\n",
    "    for param in model.parameters():\n",
    "        param.requires_grad = False\n",
    "    # Parameters of newly constructed modules have requires_grad=True by default\n",
    "    num_ftrs = model.fc.in_features\n",
    "    model.fc = nn.Linear(num_ftrs, 2)\n",
    "    model = model.to(device)\n",
    "    return model"
   ]
  },
  {
   "cell_type": "code",
   "execution_count": 4,
   "id": "1087a347",
   "metadata": {},
   "outputs": [],
   "source": [
    "class myNeuralNetwork(nn.Module):\n",
    "    \n",
    "    def __init__(self):\n",
    "        super(myNeuralNetwork, self).__init__()\n",
    "        self.conv1 = nn.Conv2d(kernel_size=5, padding=2, stride=1)\n",
    "        self.pool = nn.MaxPool2d(2, 2)\n",
    "        \n",
    "    def forward(self, x):\n",
    "        pass"
   ]
  },
  {
   "cell_type": "code",
   "execution_count": null,
   "id": "7ecd1ce0",
   "metadata": {},
   "outputs": [],
   "source": []
  },
  {
   "cell_type": "code",
   "execution_count": null,
   "id": "61d0d02a",
   "metadata": {},
   "outputs": [],
   "source": []
  },
  {
   "cell_type": "code",
   "execution_count": null,
   "id": "b95b6b86",
   "metadata": {},
   "outputs": [],
   "source": []
  }
 ],
 "metadata": {
  "kernelspec": {
   "display_name": "Python 3 (ipykernel)",
   "language": "python",
   "name": "python3"
  },
  "language_info": {
   "codemirror_mode": {
    "name": "ipython",
    "version": 3
   },
   "file_extension": ".py",
   "mimetype": "text/x-python",
   "name": "python",
   "nbconvert_exporter": "python",
   "pygments_lexer": "ipython3",
   "version": "3.7.13"
  }
 },
 "nbformat": 4,
 "nbformat_minor": 5
}
